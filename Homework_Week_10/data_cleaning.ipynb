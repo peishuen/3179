{
 "cells": [
  {
   "cell_type": "code",
   "execution_count": 3,
   "id": "7125d744",
   "metadata": {},
   "outputs": [
    {
     "name": "stdout",
     "output_type": "stream",
     "text": [
      "        date  unemployment_rate\n",
      "0 2010-01-01                3.5\n",
      "1 2010-02-01                3.5\n",
      "2 2010-03-01                3.5\n",
      "3 2010-04-01                3.0\n",
      "4 2010-05-01                3.3\n"
     ]
    }
   ],
   "source": [
    "import pandas as pd\n",
    "\n",
    "df = pd.read_csv('national_unemployment.csv')\n",
    "\n",
    "df['date'] = pd.to_datetime(df['date'])\n",
    "\n",
    "df = df[['date', 'u_rate']]\n",
    "\n",
    "df = df.sort_values('date')\n",
    "\n",
    "df = df.rename(columns={\"u_rate\": \"unemployment_rate\"})\n",
    "\n",
    "df.to_csv('national_unemployment.csv', index=False)\n",
    "\n",
    "print(df.head())"
   ]
  },
  {
   "cell_type": "code",
   "execution_count": 4,
   "id": "adc9d31d",
   "metadata": {},
   "outputs": [],
   "source": [
    "import pandas as pd\n",
    "\n",
    "df = pd.read_csv(\"national_unemployment.csv\")\n",
    "df[\"date\"] = pd.to_datetime(df[\"date\"])\n",
    "\n",
    "# Filter years\n",
    "df = df[(df[\"date\"].dt.year >= 2017) & (df[\"date\"].dt.year <= 2024)]\n",
    "\n",
    "# Calculate yearly mean\n",
    "yearly = df.groupby(df[\"date\"].dt.year)[\"unemployment_rate\"].mean().reset_index()\n",
    "yearly.columns = [\"year\", \"unemployment_rate\"]\n",
    "\n",
    "# Save both\n",
    "df.to_csv(\"national_unemployment_month.csv\", index=False)\n",
    "yearly.to_csv(\"national_unemployment_year.csv\", index=False)"
   ]
  },
  {
   "cell_type": "code",
   "execution_count": 8,
   "id": "4f7d958b",
   "metadata": {},
   "outputs": [
    {
     "name": "stdout",
     "output_type": "stream",
     "text": [
      "         date  unemployment_rate\n",
      "33 2017-01-01                3.4\n",
      "34 2018-01-01                3.3\n",
      "35 2019-01-01                3.3\n",
      "36 2020-01-01                4.5\n",
      "37 2021-01-01                4.6\n",
      "38 2022-01-01                3.9\n",
      "39 2023-01-01                3.4\n"
     ]
    }
   ],
   "source": [
    "import pandas as pd\n",
    "\n",
    "df = pd.read_csv(\"lfs_year.csv\")\n",
    "\n",
    "df[\"date\"] = pd.to_datetime(df[\"date\"])\n",
    "\n",
    "df = df[(df[\"date\"].dt.year >= 2017) & (df[\"date\"].dt.year <= 2025)]\n",
    "\n",
    "df = df[[\"date\", \"u_rate\"]]\n",
    "\n",
    "df = df.sort_values(\"date\")\n",
    "\n",
    "df = df.rename(columns={\"u_rate\": \"unemployment_rate\"})\n",
    "\n",
    "df.to_csv(\"national_unemployment_year.csv\", index=False)\n",
    "\n",
    "print(df)\n"
   ]
  },
  {
   "cell_type": "code",
   "execution_count": 9,
   "id": "ccdef250",
   "metadata": {},
   "outputs": [],
   "source": [
    "import pandas as pd\n",
    "\n",
    "# Load your monthly CSV\n",
    "df = pd.read_csv(\"national_unemployment_month.csv\")\n",
    "\n",
    "# Convert 'date' to datetime\n",
    "df[\"date\"] = pd.to_datetime(df[\"date\"])\n",
    "\n",
    "# Extract the year\n",
    "df[\"year\"] = df[\"date\"].dt.year\n",
    "\n",
    "# Group by year and take the mean unemployment rate\n",
    "yearly_df = df.groupby(\"year\", as_index=False)[\"unemployment_rate\"].mean()\n",
    "\n",
    "# Round to 1 decimal (optional)\n",
    "yearly_df[\"unemployment_rate\"] = yearly_df[\"unemployment_rate\"].round(1)\n",
    "\n",
    "# Save to new CSV\n",
    "yearly_df.to_csv(\"national_unemployment_year.csv\", index=False)\n"
   ]
  },
  {
   "cell_type": "code",
   "execution_count": null,
   "id": "1d855078",
   "metadata": {},
   "outputs": [
    {
     "name": "stdout",
     "output_type": "stream",
     "text": [
      "   year  unemployment_rate\n",
      "0  2017                3.4\n",
      "1  2018                3.3\n",
      "2  2019                3.3\n",
      "3  2020                4.5\n",
      "4  2021                4.6\n",
      "5  2022                3.9\n",
      "6  2023                3.4\n"
     ]
    }
   ],
   "source": [
    "import pandas as pd\n",
    "\n",
    "df = pd.read_csv(\"national_unemployment_year.csv\")\n",
    "\n",
    "df[\"date\"] = pd.to_datetime(df[\"date\"])\n",
    "\n",
    "df[\"year\"] = df[\"date\"].dt.year.astype(str)  \n",
    "\n",
    "df = df[[\"year\", \"unemployment_rate\"]]\n",
    "\n",
    "df.to_csv(\"national_unemployment_year.csv\", index=False)\n",
    "\n",
    "print(df)"
   ]
  }
 ],
 "metadata": {
  "kernelspec": {
   "display_name": "base",
   "language": "python",
   "name": "python3"
  },
  "language_info": {
   "codemirror_mode": {
    "name": "ipython",
    "version": 3
   },
   "file_extension": ".py",
   "mimetype": "text/x-python",
   "name": "python",
   "nbconvert_exporter": "python",
   "pygments_lexer": "ipython3",
   "version": "3.11.5"
  }
 },
 "nbformat": 4,
 "nbformat_minor": 5
}
